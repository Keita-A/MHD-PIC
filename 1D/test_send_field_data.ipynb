{
 "cells": [
  {
   "cell_type": "code",
   "execution_count": 1,
   "metadata": {},
   "outputs": [],
   "source": [
    "import numpy as np\n",
    "from scipy import stats\n",
    "import matplotlib.pyplot as plt\n",
    "import cv2"
   ]
  },
  {
   "cell_type": "code",
   "execution_count": 2,
   "metadata": {},
   "outputs": [],
   "source": [
    "def interlocking_function(x_interface_coordinate):\n",
    "    #x_mhd = 0.0にする\n",
    "    F = 0.5 * (1.0 + np.cos(np.pi * (x_interface_coordinate - 0.0) / (x_interface_coordinate[-1] - 0.0)))\n",
    "    #F = 0.5 * (1.0 + np.tanh((x_interface_coordinate[10] - x_interface_coordinate) / 5.0))\n",
    "    return F\n",
    "\n",
    "\n",
    "def get_interface_quantity(x_interface_coordinate, q_mhd, q_pic):\n",
    "    F = interlocking_function(x_interface_coordinate)\n",
    "    q_interface = F * q_mhd + (1.0 - F) * q_pic\n",
    "    return q_interface\n",
    "\n",
    "\n",
    "def send_MHD_to_PICinterface_B(\n",
    "        index_interface_mhd_start, index_interface_mhd_end, \n",
    "        index_interface_pic_start, index_interface_pic_end, \n",
    "        U, B_pic\n",
    "    ):\n",
    "\n",
    "    Bx_mhd = U[4, :]\n",
    "    By_mhd = U[5, :]\n",
    "    Bz_mhd = U[6, :]\n",
    "\n",
    "    #PICグリッドに合わせる\n",
    "    Bx_mhd = Bx_mhd #CT法は1次元では使っていないのでこのまま\n",
    "    By_mhd = 0.5 * (By_mhd + np.roll(By_mhd, -1, axis=0))\n",
    "    Bz_mhd = 0.5 * (Bz_mhd + np.roll(Bz_mhd, -1, axis=0))\n",
    "\n",
    "    Bx_mhd = Bx_mhd[index_interface_mhd_start:index_interface_mhd_end]\n",
    "    By_mhd = By_mhd[index_interface_mhd_start:index_interface_mhd_end - 1]\n",
    "    Bz_mhd = Bz_mhd[index_interface_mhd_start:index_interface_mhd_end - 1]\n",
    "\n",
    "    x_interface_coordinate = np.arange(0, index_interface_pic_end - index_interface_pic_start, 1)\n",
    "    x_interface_coordinate_half = np.arange(index_interface_pic_start + 0.5, \n",
    "                                            index_interface_pic_end - index_interface_pic_start - 0.5, \n",
    "                                            1)\n",
    "    \n",
    "    B_pic[0, index_interface_pic_start:index_interface_pic_end] = get_interface_quantity(\n",
    "        x_interface_coordinate, Bx_mhd, \n",
    "        B_pic[0, index_interface_pic_start:index_interface_pic_end]\n",
    "    )\n",
    "    B_pic[1, index_interface_pic_start:index_interface_pic_end - 1] = get_interface_quantity(\n",
    "        x_interface_coordinate_half, By_mhd, \n",
    "        B_pic[1, index_interface_pic_start:index_interface_pic_end - 1]\n",
    "    )\n",
    "    B_pic[2, index_interface_pic_start:index_interface_pic_end - 1] = get_interface_quantity(\n",
    "        x_interface_coordinate_half, Bz_mhd, \n",
    "        B_pic[2, index_interface_pic_start:index_interface_pic_end - 1]\n",
    "    )\n",
    "    \n",
    "    return B_pic\n",
    "\n"
   ]
  },
  {
   "cell_type": "code",
   "execution_count": 7,
   "metadata": {},
   "outputs": [],
   "source": [
    "lambda_mhd = lambda_pic = 20.0\n",
    "kx_mhd = 2.0 * np.pi / lambda_mhd\n",
    "kx_pic = 2.0 * np.pi / lambda_pic"
   ]
  },
  {
   "cell_type": "code",
   "execution_count": 52,
   "metadata": {},
   "outputs": [
    {
     "name": "stdout",
     "output_type": "stream",
     "text": [
      "total number of particles is 20000.\n",
      "Box size is 100\n"
     ]
    }
   ],
   "source": [
    "c = 0.5\n",
    "mu_0 = 1.0\n",
    "epsilon0 = 1.0 / (mu_0 * c**2)\n",
    "m_electron = 1.0\n",
    "r_m = 1 / 100\n",
    "m_ion = m_electron / r_m\n",
    "t_r = 1.0\n",
    "ne0_pic = 100 #ここは手動で調整すること\n",
    "ni0_pic = ne0_pic\n",
    "B0_pic = np.sqrt(ne0_pic) / 1.0\n",
    "Te_pic = 0.5 * m_electron * (0.2*c)**2\n",
    "Ti_pic = Te_pic / t_r\n",
    "beta_pic = (ne0_pic * Te_pic + ni0_pic * Ti_pic) / (B0_pic**2 / 2 / mu_0)\n",
    "q_electron = -1 * np.sqrt(epsilon0 * Te_pic / ne0_pic)\n",
    "q_ion = -1 * q_electron\n",
    "debye_length = np.sqrt(epsilon0 * Te_pic / ne0_pic / q_electron**2)\n",
    "omega_pe = np.sqrt(ne0_pic * q_electron**2 / m_electron / epsilon0)\n",
    "omega_pi = np.sqrt(ni0_pic * q_ion**2 / m_ion / epsilon0)\n",
    "omega_ce = q_electron * B0_pic / m_electron\n",
    "omega_ci = q_ion * B0_pic / m_ion\n",
    "v_ion = np.array([0.0, 0.0, 0.0])\n",
    "v_electron = np.array([0.0, 0.0, 0.0])\n",
    "v_thermal_electron = np.sqrt(2.0 * Te_pic / m_electron)\n",
    "v_thermal_ion = np.sqrt(2.0 * Ti_pic / m_ion)\n",
    "\n",
    "dx_pic = debye_length\n",
    "nx_pic = 100\n",
    "x_min_pic = 1e-10\n",
    "x_max_pic = nx_pic * dx_pic - 1e-10\n",
    "x_coordinate_pic = np.arange(0.0, x_max_pic, dx_pic)\n",
    "dt_pic = 0.0\n",
    "d_pic = 1.0\n",
    "\n",
    "E_pic = np.zeros([3, nx_pic])\n",
    "B_pic = np.zeros([3, nx_pic])\n",
    "current_pic = np.zeros([3, nx_pic])\n",
    "rho_pic = np.zeros(nx_pic)\n",
    "B_pic[2, :] = B0_pic * np.sin(kx_pic * x_coordinate_pic)\n",
    "\n",
    "n_ion = int(ni0_pic * nx_pic)\n",
    "n_electron = int(n_ion * abs(q_ion / q_electron))\n",
    "x_pic_ion = np.zeros([3, n_ion])\n",
    "x_pic_electron = np.zeros([3, n_electron])\n",
    "v_pic_ion = np.zeros([3, n_ion])\n",
    "v_pic_electron = np.zeros([3, n_electron])\n",
    "\n",
    "rs_ion = np.random.RandomState(10)\n",
    "rs_electron = np.random.RandomState(20)\n",
    "x_start_ion = np.linspace(x_min_pic, x_max_pic, n_ion)\n",
    "x_start_electron = np.linspace(x_min_pic, x_max_pic, n_electron)\n",
    "\n",
    "x_pic_ion[0, :] = x_start_ion\n",
    "x_pic_electron[0, :] = x_start_electron\n",
    "v_pic_ion[0, :] = np.asarray(stats.norm.rvs(v_ion[0], v_thermal_ion, size=n_ion, random_state=30))\n",
    "v_pic_ion[1, :] = np.asarray(stats.norm.rvs(v_ion[1], v_thermal_ion, size=n_ion, random_state=40))\n",
    "v_pic_ion[2, :] = np.asarray(stats.norm.rvs(v_ion[2], v_thermal_ion, size=n_ion, random_state=50))\n",
    "v_pic_electron[0, :] = np.asarray(stats.norm.rvs(v_electron[0], v_thermal_electron, size=n_electron, random_state=60))\n",
    "v_pic_electron[1, :] = np.asarray(stats.norm.rvs(v_electron[1], v_thermal_electron, size=n_electron, random_state=70))\n",
    "v_pic_electron[2, :] = np.asarray(stats.norm.rvs(v_electron[2], v_thermal_electron, size=n_electron, random_state=80))\n",
    "\n",
    "print(f\"total number of particles is {n_ion + n_electron}.\")\n",
    "print(f\"Box size is {nx_pic}\")"
   ]
  },
  {
   "cell_type": "code",
   "execution_count": 53,
   "metadata": {},
   "outputs": [
    {
     "name": "stdout",
     "output_type": "stream",
     "text": [
      "U size is (8, 100)\n"
     ]
    }
   ],
   "source": [
    "gamma_mhd = 5.0 / 3.0\n",
    "B0_mhd = B0_pic\n",
    "rho0_mhd = ne0_pic * m_electron + ni0_pic * m_ion\n",
    "p0_mhd = ne0_pic * Te_pic + ni0_pic * Ti_pic\n",
    "VA_mhd = B0_mhd / np.sqrt(rho0_mhd)\n",
    "Cf_mhd = np.sqrt((B0_mhd**2 + 2.0 * p0_mhd) / rho0_mhd)\n",
    "dx_mhd = dx_pic\n",
    "\n",
    "nx_mhd = 100\n",
    "x_min_mhd = 1e-10\n",
    "x_max_mhd = nx_mhd * dx_mhd - 1e-10\n",
    "dt_mhd = 0.0\n",
    "CFL = 0.2\n",
    "x_coordinate_mhd = np.arange(x_min_mhd, x_max_mhd, dx_mhd)\n",
    "\n",
    "lambda_mhd = 20.0\n",
    "kx_mhd = 2.0 * np.pi / lambda_mhd\n",
    "U1 = np.zeros([8, nx_mhd])\n",
    "rho_init = rho0_mhd \n",
    "u_init = 0.0\n",
    "v_init = 0.0\n",
    "w_init = 0.0\n",
    "Bx_init = 0.0\n",
    "By_init = 0.0\n",
    "Bz_init = B0_mhd * np.sin(kx_mhd * (x_coordinate_mhd - 0.5 * dx_mhd))\n",
    "p_init = p0_mhd\n",
    "U1[0, :] = rho_init\n",
    "U1[1, :] = rho_init * u_init\n",
    "U1[2, :] = rho_init * v_init\n",
    "U1[3, :] = rho_init * w_init\n",
    "U1[4, :] = Bx_init\n",
    "U1[5, :] = By_init\n",
    "U1[6, :] = Bz_init\n",
    "U1[7, :] = p_init / (gamma_mhd - 1) + rho_init * (u_init**2 + v_init**2 + w_init**2)/2 + (Bx_init**2 + By_init**2 + Bz_init**2)/2\n",
    "\n",
    "F1 = np.zeros(U1.shape)\n",
    "F1_bar = np.zeros(F1.shape)\n",
    "G1 = np.zeros(U1.shape)\n",
    "G1_bar = np.zeros(G1.shape)\n",
    "\n",
    "U2 = U1.copy()\n",
    "F2 = F1.copy()\n",
    "F2_bar = F1_bar.copy()\n",
    "G2 = G1.copy()\n",
    "G2_bar2 = G1_bar.copy()\n",
    "\n",
    "print(f\"U size is {U1.shape}\")"
   ]
  },
  {
   "cell_type": "code",
   "execution_count": 54,
   "metadata": {},
   "outputs": [],
   "source": [
    "index_interface_mhd_start = nx_mhd - int(lambda_mhd)\n",
    "index_interface_mhd_end = nx_mhd\n",
    "index_interface_pic_start = 0\n",
    "index_interface_pic_end = int(lambda_pic)"
   ]
  },
  {
   "cell_type": "code",
   "execution_count": 55,
   "metadata": {},
   "outputs": [
    {
     "data": {
      "text/plain": [
       "[<matplotlib.lines.Line2D at 0x25184b28610>]"
      ]
     },
     "execution_count": 55,
     "metadata": {},
     "output_type": "execute_result"
    },
    {
     "data": {
      "image/png": "[encoded data removed]",
      "text/plain": [
       "<Figure size 640x480 with 1 Axes>"
      ]
     },
     "metadata": {},
     "output_type": "display_data"
    }
   ],
   "source": [
    "for i in range(100):\n",
    "    B_pic = send_MHD_to_PICinterface_B(\n",
    "        index_interface_mhd_start, index_interface_mhd_end, \n",
    "        index_interface_pic_start, index_interface_pic_end, \n",
    "        U1, B_pic\n",
    "    )\n",
    "\n",
    "plt.plot(B_pic[2, :])\n",
    "#plt.plot(U1[6, :])"
   ]
  },
  {
   "cell_type": "code",
   "execution_count": null,
   "metadata": {},
   "outputs": [],
   "source": []
  }
 ],
 "metadata": {
  "kernelspec": {
   "display_name": "base",
   "language": "python",
   "name": "python3"
  },
  "language_info": {
   "codemirror_mode": {
    "name": "ipython",
    "version": 3
   },
   "file_extension": ".py",
   "mimetype": "text/x-python",
   "name": "python",
   "nbconvert_exporter": "python",
   "pygments_lexer": "ipython3",
   "version": "3.9.16"
  }
 },
 "nbformat": 4,
 "nbformat_minor": 2
}
